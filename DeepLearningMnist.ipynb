{
  "nbformat": 4,
  "nbformat_minor": 0,
  "metadata": {
    "colab": {
      "provenance": []
    },
    "kernelspec": {
      "name": "python3",
      "display_name": "Python 3"
    },
    "language_info": {
      "name": "python"
    }
  },
  "cells": [
    {
      "cell_type": "code",
      "execution_count": 36,
      "metadata": {
        "id": "4v7dLlX2R6d9"
      },
      "outputs": [],
      "source": [
        "import tensorflow as tf\n",
        "#una capa unida a la capa siguiente\n",
        "from tensorflow.keras.models import Sequential\n",
        "#Varios elementos que componen las RNC\n",
        "from tensorflow.keras.layers import Dense, Dropout, Activation, Flatten, Conv2D, MaxPooling2D\n",
        "import pickle\n",
        "import matplotlib.pyplot as plt"
      ]
    },
    {
      "cell_type": "code",
      "source": [
        "mnist = tf.keras.datasets.mnist"
      ],
      "metadata": {
        "id": "9SbDKez7TmPc"
      },
      "execution_count": 7,
      "outputs": []
    },
    {
      "cell_type": "markdown",
      "source": [
        "![image.png](data:image/png;base64,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)"
      ],
      "metadata": {
        "id": "EF0eEv9Taf5V"
      }
    },
    {
      "cell_type": "code",
      "source": [
        "bactch_size=128\n",
        "epocas=5\n",
        "image_size=28"
      ],
      "metadata": {
        "id": "E0hsLSYtSt4D"
      },
      "execution_count": 8,
      "outputs": []
    },
    {
      "cell_type": "code",
      "source": [
        "(x_train, y_train),(x_test, y_test) = mnist.load_data()"
      ],
      "metadata": {
        "id": "ghKjKHxvTh88"
      },
      "execution_count": 13,
      "outputs": []
    },
    {
      "cell_type": "code",
      "source": [
        "x_train"
      ],
      "metadata": {
        "colab": {
          "base_uri": "https://localhost:8080/"
        },
        "id": "zpj_yO6vU3eq",
        "outputId": "cc5aeb9e-b8cf-4907-8f4c-d9aa48865b94"
      },
      "execution_count": 14,
      "outputs": [
        {
          "output_type": "execute_result",
          "data": {
            "text/plain": [
              "array([[[0, 0, 0, ..., 0, 0, 0],\n",
              "        [0, 0, 0, ..., 0, 0, 0],\n",
              "        [0, 0, 0, ..., 0, 0, 0],\n",
              "        ...,\n",
              "        [0, 0, 0, ..., 0, 0, 0],\n",
              "        [0, 0, 0, ..., 0, 0, 0],\n",
              "        [0, 0, 0, ..., 0, 0, 0]],\n",
              "\n",
              "       [[0, 0, 0, ..., 0, 0, 0],\n",
              "        [0, 0, 0, ..., 0, 0, 0],\n",
              "        [0, 0, 0, ..., 0, 0, 0],\n",
              "        ...,\n",
              "        [0, 0, 0, ..., 0, 0, 0],\n",
              "        [0, 0, 0, ..., 0, 0, 0],\n",
              "        [0, 0, 0, ..., 0, 0, 0]],\n",
              "\n",
              "       [[0, 0, 0, ..., 0, 0, 0],\n",
              "        [0, 0, 0, ..., 0, 0, 0],\n",
              "        [0, 0, 0, ..., 0, 0, 0],\n",
              "        ...,\n",
              "        [0, 0, 0, ..., 0, 0, 0],\n",
              "        [0, 0, 0, ..., 0, 0, 0],\n",
              "        [0, 0, 0, ..., 0, 0, 0]],\n",
              "\n",
              "       ...,\n",
              "\n",
              "       [[0, 0, 0, ..., 0, 0, 0],\n",
              "        [0, 0, 0, ..., 0, 0, 0],\n",
              "        [0, 0, 0, ..., 0, 0, 0],\n",
              "        ...,\n",
              "        [0, 0, 0, ..., 0, 0, 0],\n",
              "        [0, 0, 0, ..., 0, 0, 0],\n",
              "        [0, 0, 0, ..., 0, 0, 0]],\n",
              "\n",
              "       [[0, 0, 0, ..., 0, 0, 0],\n",
              "        [0, 0, 0, ..., 0, 0, 0],\n",
              "        [0, 0, 0, ..., 0, 0, 0],\n",
              "        ...,\n",
              "        [0, 0, 0, ..., 0, 0, 0],\n",
              "        [0, 0, 0, ..., 0, 0, 0],\n",
              "        [0, 0, 0, ..., 0, 0, 0]],\n",
              "\n",
              "       [[0, 0, 0, ..., 0, 0, 0],\n",
              "        [0, 0, 0, ..., 0, 0, 0],\n",
              "        [0, 0, 0, ..., 0, 0, 0],\n",
              "        ...,\n",
              "        [0, 0, 0, ..., 0, 0, 0],\n",
              "        [0, 0, 0, ..., 0, 0, 0],\n",
              "        [0, 0, 0, ..., 0, 0, 0]]], dtype=uint8)"
            ]
          },
          "metadata": {},
          "execution_count": 14
        }
      ]
    },
    {
      "cell_type": "code",
      "source": [
        "(x_train, y_train),(x_test, y_test) = mnist.load_data()\n",
        "x_train, x_test = x_train / 255.0, x_test / 255.0"
      ],
      "metadata": {
        "id": "ThoW0xkVU1lE"
      },
      "execution_count": 23,
      "outputs": []
    },
    {
      "cell_type": "code",
      "source": [
        "x_train.shape"
      ],
      "metadata": {
        "colab": {
          "base_uri": "https://localhost:8080/"
        },
        "id": "etznk7s4VQZq",
        "outputId": "5263d701-da50-4033-ed4a-dacd9cdf147a"
      },
      "execution_count": 24,
      "outputs": [
        {
          "output_type": "execute_result",
          "data": {
            "text/plain": [
              "(60000, 28, 28)"
            ]
          },
          "metadata": {},
          "execution_count": 24
        }
      ]
    },
    {
      "cell_type": "code",
      "source": [
        "y_test"
      ],
      "metadata": {
        "colab": {
          "base_uri": "https://localhost:8080/"
        },
        "id": "SVDN5TBiU7yr",
        "outputId": "c57a2445-c83a-46f3-cb1b-e1a23aed928a"
      },
      "execution_count": 17,
      "outputs": [
        {
          "output_type": "execute_result",
          "data": {
            "text/plain": [
              "array([7, 2, 1, ..., 4, 5, 6], dtype=uint8)"
            ]
          },
          "metadata": {},
          "execution_count": 17
        }
      ]
    },
    {
      "cell_type": "code",
      "source": [
        "x_train=x_train.reshape(x_train.shape[0], image_size, image_size,1)\n",
        "x_test=x_test.reshape(x_test.shape[0], image_size, image_size,1)"
      ],
      "metadata": {
        "id": "yBjMt1nvVA7D"
      },
      "execution_count": 25,
      "outputs": []
    },
    {
      "cell_type": "code",
      "source": [
        "x_train.shape"
      ],
      "metadata": {
        "colab": {
          "base_uri": "https://localhost:8080/"
        },
        "id": "JDYnF45NVoB2",
        "outputId": "33b184b4-1452-43c5-a527-839b47463c18"
      },
      "execution_count": 26,
      "outputs": [
        {
          "output_type": "execute_result",
          "data": {
            "text/plain": [
              "(60000, 28, 28, 1)"
            ]
          },
          "metadata": {},
          "execution_count": 26
        }
      ]
    },
    {
      "cell_type": "code",
      "source": [
        "y_train=tf.keras.utils.to_categorical(y_train, 10)\n",
        "y_test=tf.keras.utils.to_categorical(y_test, 10)\n"
      ],
      "metadata": {
        "id": "FDO3OQMeVwbE"
      },
      "execution_count": 27,
      "outputs": []
    },
    {
      "cell_type": "code",
      "source": [
        "y_train"
      ],
      "metadata": {
        "colab": {
          "base_uri": "https://localhost:8080/"
        },
        "id": "1t1QVMYCWLFS",
        "outputId": "0fc8508d-eb91-4311-9e24-f51eb4addeb9"
      },
      "execution_count": 28,
      "outputs": [
        {
          "output_type": "execute_result",
          "data": {
            "text/plain": [
              "array([[0., 0., 0., ..., 0., 0., 0.],\n",
              "       [1., 0., 0., ..., 0., 0., 0.],\n",
              "       [0., 0., 0., ..., 0., 0., 0.],\n",
              "       ...,\n",
              "       [0., 0., 0., ..., 0., 0., 0.],\n",
              "       [0., 0., 0., ..., 0., 0., 0.],\n",
              "       [0., 0., 0., ..., 0., 1., 0.]])"
            ]
          },
          "metadata": {},
          "execution_count": 28
        }
      ]
    },
    {
      "cell_type": "code",
      "source": [
        "modelo=Sequential([\n",
        "    #64 filtros de tamaño 3x3(convolución)\n",
        "    Conv2D(32, (3, 3), activation='relu', input_shape=(image_size, image_size, 1)),\n",
        "    #reducción de características\n",
        "    MaxPooling2D((2, 2)),\n",
        "    #convolución con 64 filtros de 3x3\n",
        "    Conv2D(64, (3, 3), activation='relu'),\n",
        "    #reducción de Características 2x2\n",
        "    MaxPooling2D((2, 2)),\n",
        "    #pasarlo a una capa de Vector\n",
        "    Flatten(),\n",
        "    #capa totalmente conectada, función de activación relu\n",
        "    Dense(128, activation='relu'),\n",
        "    #eliminado de neuronas del 3%, para ayudar a la generalización\n",
        "    Dropout(0.3),\n",
        "    #salida en probabilidad de cada número\n",
        "    Dense(10, activation='softmax')\n",
        "         ])"
      ],
      "metadata": {
        "id": "1IVoLCjiWZ7E"
      },
      "execution_count": 39,
      "outputs": []
    },
    {
      "cell_type": "code",
      "source": [],
      "metadata": {
        "id": "mprA1T8EZ8_a"
      },
      "execution_count": null,
      "outputs": []
    },
    {
      "cell_type": "code",
      "source": [
        "modelo.compile(optimizer='adam', loss='categorical_crossentropy', metrics=['accuracy'])"
      ],
      "metadata": {
        "id": "EnYhHuzYYEFi"
      },
      "execution_count": 40,
      "outputs": []
    },
    {
      "cell_type": "code",
      "source": [
        "modelo.fit(x_train, y_train, epochs=5)"
      ],
      "metadata": {
        "colab": {
          "base_uri": "https://localhost:8080/"
        },
        "id": "pF81KfIfY3uK",
        "outputId": "97f727d3-9202-414e-b281-1eda671f3bfe"
      },
      "execution_count": 41,
      "outputs": [
        {
          "output_type": "stream",
          "name": "stdout",
          "text": [
            "Epoch 1/5\n",
            "\u001b[1m1875/1875\u001b[0m \u001b[32m━━━━━━━━━━━━━━━━━━━━\u001b[0m\u001b[37m\u001b[0m \u001b[1m74s\u001b[0m 38ms/step - accuracy: 0.8883 - loss: 0.3470\n",
            "Epoch 2/5\n",
            "\u001b[1m1875/1875\u001b[0m \u001b[32m━━━━━━━━━━━━━━━━━━━━\u001b[0m\u001b[37m\u001b[0m \u001b[1m81s\u001b[0m 38ms/step - accuracy: 0.9825 - loss: 0.0592\n",
            "Epoch 3/5\n",
            "\u001b[1m1875/1875\u001b[0m \u001b[32m━━━━━━━━━━━━━━━━━━━━\u001b[0m\u001b[37m\u001b[0m \u001b[1m72s\u001b[0m 38ms/step - accuracy: 0.9874 - loss: 0.0420\n",
            "Epoch 4/5\n",
            "\u001b[1m1875/1875\u001b[0m \u001b[32m━━━━━━━━━━━━━━━━━━━━\u001b[0m\u001b[37m\u001b[0m \u001b[1m84s\u001b[0m 39ms/step - accuracy: 0.9908 - loss: 0.0289\n",
            "Epoch 5/5\n",
            "\u001b[1m1875/1875\u001b[0m \u001b[32m━━━━━━━━━━━━━━━━━━━━\u001b[0m\u001b[37m\u001b[0m \u001b[1m80s\u001b[0m 38ms/step - accuracy: 0.9921 - loss: 0.0254\n"
          ]
        },
        {
          "output_type": "execute_result",
          "data": {
            "text/plain": [
              "<keras.src.callbacks.history.History at 0x7997fc108f10>"
            ]
          },
          "metadata": {},
          "execution_count": 41
        }
      ]
    },
    {
      "cell_type": "code",
      "source": [
        "modelo.evaluate(x_test, y_test)"
      ],
      "metadata": {
        "colab": {
          "base_uri": "https://localhost:8080/"
        },
        "id": "u1KchSyhZ_SD",
        "outputId": "1228e3f6-4b7a-4813-ec54-c0b32a339d03"
      },
      "execution_count": 42,
      "outputs": [
        {
          "output_type": "stream",
          "name": "stdout",
          "text": [
            "\u001b[1m313/313\u001b[0m \u001b[32m━━━━━━━━━━━━━━━━━━━━\u001b[0m\u001b[37m\u001b[0m \u001b[1m4s\u001b[0m 11ms/step - accuracy: 0.9855 - loss: 0.0403\n"
          ]
        },
        {
          "output_type": "execute_result",
          "data": {
            "text/plain": [
              "[0.034084971994161606, 0.9883000254631042]"
            ]
          },
          "metadata": {},
          "execution_count": 42
        }
      ]
    },
    {
      "cell_type": "code",
      "source": [
        "historia=modelo.fit(x_train, y_train, epochs=4, batch_size=bactch_size, validation_data=(x_test, y_test))"
      ],
      "metadata": {
        "colab": {
          "base_uri": "https://localhost:8080/"
        },
        "id": "TXWJgX7caxcp",
        "outputId": "8480f953-539b-498b-fb4a-8d5ca9747efb"
      },
      "execution_count": null,
      "outputs": [
        {
          "output_type": "stream",
          "name": "stdout",
          "text": [
            "Epoch 1/4\n",
            "\u001b[1m322/469\u001b[0m \u001b[32m━━━━━━━━━━━━━\u001b[0m\u001b[37m━━━━━━━\u001b[0m \u001b[1m18s\u001b[0m 125ms/step - accuracy: 0.9982 - loss: 0.0061"
          ]
        }
      ]
    },
    {
      "cell_type": "code",
      "source": [
        "plt.plot(historia.history['accuracy'],label=\"Entrenamiento\")\n",
        "plt.plot(historia.history['val_accuracy'],label=\"Validación\")\n",
        "plt.xlabel(\"Épocas\")\n",
        "plt.ylabel(\"Precisión\")\n",
        "plt.legend()\n",
        "plt.show()"
      ],
      "metadata": {
        "colab": {
          "base_uri": "https://localhost:8080/",
          "height": 451
        },
        "id": "d90r-WNObHpI",
        "outputId": "ac8eccc7-b7c5-4b4b-aa76-c84c83f76aee"
      },
      "execution_count": 46,
      "outputs": [
        {
          "output_type": "display_data",
          "data": {
            "text/plain": [
              "<Figure size 640x480 with 1 Axes>"
            ],
            "image/png": "[encoded data removed]"
          },
          "metadata": {}
        }
      ]
    },
    {
      "cell_type": "code",
      "source": [
        "from sklearn.metrics import confusion_matrix, classification_report\n",
        "import seaborn as sns\n",
        "import numpy as np"
      ],
      "metadata": {
        "id": "4f9njN99bmLD"
      },
      "execution_count": 54,
      "outputs": []
    },
    {
      "cell_type": "code",
      "source": [
        "ypred_probs=modelo.predict(x_test)\n",
        "y_predClasse=np.argmax(ypred_probs, axis=1)\n",
        "y_trueClasse=np.argmax(y_test, axis=1)"
      ],
      "metadata": {
        "colab": {
          "base_uri": "https://localhost:8080/"
        },
        "id": "xg6nvk21bxjh",
        "outputId": "a107a87d-c080-46ec-e236-c136a51b48aa"
      },
      "execution_count": 49,
      "outputs": [
        {
          "output_type": "stream",
          "name": "stdout",
          "text": [
            "\u001b[1m313/313\u001b[0m \u001b[32m━━━━━━━━━━━━━━━━━━━━\u001b[0m\u001b[37m\u001b[0m \u001b[1m3s\u001b[0m 10ms/step\n"
          ]
        }
      ]
    },
    {
      "cell_type": "code",
      "source": [
        "mx=confusion_matrix(y_trueClasse, y_predClasse)\n",
        "mx"
      ],
      "metadata": {
        "colab": {
          "base_uri": "https://localhost:8080/"
        },
        "id": "hjTJWUqxc0wS",
        "outputId": "1ba30443-ac60-46c3-8930-348d1482638c"
      },
      "execution_count": 51,
      "outputs": [
        {
          "output_type": "execute_result",
          "data": {
            "text/plain": [
              "array([[ 975,    0,    0,    0,    0,    0,    3,    2,    0,    0],\n",
              "       [   0, 1133,    0,    1,    0,    0,    0,    1,    0,    0],\n",
              "       [   1,    0, 1025,    0,    1,    0,    0,    4,    1,    0],\n",
              "       [   0,    0,    1, 1005,    0,    3,    0,    0,    1,    0],\n",
              "       [   0,    0,    0,    0,  974,    0,    1,    0,    1,    6],\n",
              "       [   1,    0,    0,    3,    0,  885,    1,    1,    0,    1],\n",
              "       [   1,    2,    0,    0,    2,    1,  952,    0,    0,    0],\n",
              "       [   0,    1,    1,    0,    0,    0,    0, 1023,    1,    2],\n",
              "       [   1,    0,    1,    2,    1,    0,    0,    2,  965,    2],\n",
              "       [   0,    0,    0,    0,    3,    3,    0,    3,    1,  999]])"
            ]
          },
          "metadata": {},
          "execution_count": 51
        }
      ]
    },
    {
      "cell_type": "code",
      "source": [
        "sns.heatmap(mx, annot=True, fmt='d')\n",
        "plt.show()"
      ],
      "metadata": {
        "colab": {
          "base_uri": "https://localhost:8080/",
          "height": 430
        },
        "id": "Y3FulnMMc43o",
        "outputId": "63c6c5fc-6d26-440e-9f70-f758ef1dcb3f"
      },
      "execution_count": 52,
      "outputs": [
        {
          "output_type": "display_data",
          "data": {
            "text/plain": [
              "<Figure size 640x480 with 2 Axes>"
            ],
            "image/png": "[encoded data removed]"
          },
          "metadata": {}
        }
      ]
    },
    {
      "cell_type": "code",
      "source": [
        "print(classification_report(y_trueClasse, y_predClasse))"
      ],
      "metadata": {
        "colab": {
          "base_uri": "https://localhost:8080/"
        },
        "id": "KqLVlTZKc_jY",
        "outputId": "c52fcd34-194c-443e-e228-32b3d58f9f17"
      },
      "execution_count": 55,
      "outputs": [
        {
          "output_type": "stream",
          "name": "stdout",
          "text": [
            "              precision    recall  f1-score   support\n",
            "\n",
            "           0       1.00      0.99      1.00       980\n",
            "           1       1.00      1.00      1.00      1135\n",
            "           2       1.00      0.99      1.00      1032\n",
            "           3       0.99      1.00      0.99      1010\n",
            "           4       0.99      0.99      0.99       982\n",
            "           5       0.99      0.99      0.99       892\n",
            "           6       0.99      0.99      0.99       958\n",
            "           7       0.99      1.00      0.99      1028\n",
            "           8       0.99      0.99      0.99       974\n",
            "           9       0.99      0.99      0.99      1009\n",
            "\n",
            "    accuracy                           0.99     10000\n",
            "   macro avg       0.99      0.99      0.99     10000\n",
            "weighted avg       0.99      0.99      0.99     10000\n",
            "\n"
          ]
        }
      ]
    }
  ]
}